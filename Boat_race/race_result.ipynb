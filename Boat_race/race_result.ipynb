{
 "cells": [
  {
   "cell_type": "code",
   "execution_count": null,
   "id": "200e754a",
   "metadata": {},
   "outputs": [],
   "source": [
    "import datetime\n",
    "import pandas as pd\n",
    "dt_now = datetime.datetime.now()\n",
    "year_b = str(dt_now.year)\n",
    "year =year_b.replace('20','')\n",
    "\n",
    "if len(str(dt_now.month))==1:\n",
    "    month = '0'+str(dt_now.month)\n",
    "else:\n",
    "    month = str(dt_now.month)\n",
    "\n",
    "\n",
    "if len(str(dt_now.day))==1:\n",
    "    date='0'+str(dt_now.day)\n",
    "else:\n",
    "    date = str(dt_now.day)\n",
    "\n",
    "text_data = '/Users/fujitashunsuke/python project/Boat_race/table/B'+str(year)+str(month)+str(date)+'.TXT'\n",
    "df = pd.read_csv(text_data,encoding='shift_jis')\n",
    "a = df['STARTB'].tolist()"
   ]
  }
 ],
 "metadata": {
  "kernelspec": {
   "display_name": "Python 3",
   "language": "python",
   "name": "python3"
  },
  "language_info": {
   "codemirror_mode": {
    "name": "ipython",
    "version": 3
   },
   "file_extension": ".py",
   "mimetype": "text/x-python",
   "name": "python",
   "nbconvert_exporter": "python",
   "pygments_lexer": "ipython3",
   "version": "3.8.8"
  }
 },
 "nbformat": 4,
 "nbformat_minor": 5
}
