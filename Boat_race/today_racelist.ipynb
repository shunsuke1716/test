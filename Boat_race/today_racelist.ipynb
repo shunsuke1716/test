{
 "cells": [
  {
   "cell_type": "code",
   "execution_count": 8,
   "id": "6a38eb86",
   "metadata": {},
   "outputs": [],
   "source": [
    "import datetime\n",
    "import pandas as pd\n",
    "dt_now = datetime.datetime.now()\n",
    "year_b = str(dt_now.year)\n",
    "year =year_b.replace('20','')\n",
    "\n",
    "if len(str(dt_now.month))==1:\n",
    "    month = '0'+str(dt_now.month)\n",
    "else:\n",
    "    month = str(dt_now.month)\n",
    "\n",
    "\n",
    "if len(str(dt_now.day))==1:\n",
    "    date='0'+str(dt_now.day)\n",
    "else:\n",
    "    date = str(dt_now.day)\n",
    "\n",
    "text_data = '/Users/fujitashunsuke/python project/Boat_race/table/B'+str(year)+str(month)+str(date)+'.TXT'\n",
    "df = pd.read_csv(text_data,encoding='shift_jis')\n",
    "a = df['STARTB'].tolist()"
   ]
  },
  {
   "cell_type": "code",
   "execution_count": 12,
   "id": "2db41cf1",
   "metadata": {},
   "outputs": [],
   "source": [
    "day_no=[]\n",
    "park_list=[]\n",
    "for i in list(range(24)):\n",
    "    race_No = i+1\n",
    "    race_place_i = str(race_No)+'BBGN'\n",
    "    race_place_e = str(race_No)+'BEND'\n",
    "    \n",
    "    if race_place_i in a:\n",
    "        List_No_i = a.index(race_place_i)\n",
    "        List_No_e = a.index(race_place_e)\n",
    "        \n",
    "        Tournament_info =a[List_No_i+1]\n",
    "        \n",
    "        #何日目\n",
    "        day_No=Tournament_info.replace('\\u3000','')\n",
    "        day_No=day_No[-3:]\n",
    "        #開催上の確認\n",
    "        park=Tournament_info.replace('\\u3000',' ')\n",
    "        park=park[6:9]\n",
    "        \n",
    "        for j in list(range(12)):\n",
    "            Round_No = j*12+13\n",
    "            #締切時刻\n",
    "            Round_No_list = List_No_i+Round_No\n",
    "            b=a[Round_No_list]\n",
    "    else:\n",
    "        pass\n",
    "    \n",
    "    "
   ]
  },
  {
   "cell_type": "code",
   "execution_count": 23,
   "id": "75aa3d5b",
   "metadata": {},
   "outputs": [
    {
     "data": {
      "text/plain": [
       "'ボートレース大\\u3000村   \\u3000１月\\u3000３日  オールレディース競走  第\\u3000１日'"
      ]
     },
     "execution_count": 23,
     "metadata": {},
     "output_type": "execute_result"
    }
   ],
   "source": [
    "Tournament_info"
   ]
  },
  {
   "cell_type": "code",
   "execution_count": 22,
   "id": "af3305c7",
   "metadata": {},
   "outputs": [
    {
     "data": {
      "text/plain": [
       "'第１日'"
      ]
     },
     "execution_count": 22,
     "metadata": {},
     "output_type": "execute_result"
    }
   ],
   "source": [
    "day_No"
   ]
  },
  {
   "cell_type": "code",
   "execution_count": null,
   "id": "3f5ac69a",
   "metadata": {},
   "outputs": [],
   "source": []
  },
  {
   "cell_type": "code",
   "execution_count": 25,
   "id": "ea42a650",
   "metadata": {},
   "outputs": [],
   "source": [
    "for j in list(range(12)):\n",
    "    #締切時刻\n",
    "    Round_No = j*11+6\n",
    "    Round_No_list = a[Round_No]\n",
    "    dead_time = Round_No_list[-6:]\n",
    "    dead_time_hour=int(dead_time[0:2])\n",
    "    dead_time_min =int(dead_time[3:5])\n",
    "    #コース情報\n",
    "    C1=j*11+11\n",
    "    C2=j*11+12\n",
    "    C3=j*11+13\n",
    "    C4=j*11+14\n",
    "    C5=j*11+15\n",
    "    C6=j*11+16\n",
    "    C1_info=a[C1]\n",
    "    C2_info=a[C2]\n",
    "    C3_info=a[C3]\n",
    "    C4_info=a[C4]\n",
    "    C5_info=a[C5]\n",
    "    C6_info=a[C6]\n",
    "    \n",
    "    #登録番号\n",
    "    C1_No=C1_info[2:6]\n",
    "    C2_No=C2_info[2:6]\n",
    "    C3_No=C3_info[2:6]\n",
    "    C4_No=C4_info[2:6]\n",
    "    C5_No=C5_info[2:6]\n",
    "    C6_No=C6_info[2:6]\n",
    "    \n",
    "    #名前\n",
    "    C1_Name=C1_info[6:10]\n",
    "    C2_Name=C2_info[6:10]\n",
    "    C3_Name=C3_info[6:10]\n",
    "    C4_Name=C4_info[6:10]\n",
    "    C5_Name=C5_info[6:10]\n",
    "    C6_Name=C6_info[6:10]\n",
    "    #階級\n",
    "    C1_rank=C1_info[16:18]\n",
    "    C2_rank=C2_info[16:18]\n",
    "    C3_rank=C3_info[16:18]\n",
    "    C4_rank=C4_info[16:18]\n",
    "    C5_rank=C5_info[16:18]\n",
    "    C6_rank=C6_info[16:18]\n",
    "    #勝率\n",
    "    C1_ratio=C1_info[19:24]\n",
    "    C2_ratio=C2_info[19:24]\n",
    "    C3_ratio=C3_info[19:24]\n",
    "    C4_ratio=C4_info[19:24]\n",
    "    C5_ratio=C5_info[19:24]\n",
    "    C6_ratio=C6_info[19:24]\n",
    "    \n",
    "    #着順\n",
    "    C1_order=C1_info[59:70]\n",
    "    C2_order=C2_info[59:70]\n",
    "    C3_order=C3_info[59:70]\n",
    "    C4_order=C4_info[59:70]\n",
    "    C5_order=C5_info[59:70]\n",
    "    C6_order=C6_info[59:70]\n",
    "    \n",
    "    "
   ]
  },
  {
   "cell_type": "code",
   "execution_count": 27,
   "id": "d5afa472",
   "metadata": {},
   "outputs": [
    {
     "data": {
      "text/plain": [
       "'1 4590渡邉優美29福岡49A1 6.88 53.47 6.44 48.84 11 31.15 13 39.53              7'"
      ]
     },
     "execution_count": 27,
     "metadata": {},
     "output_type": "execute_result"
    }
   ],
   "source": []
  },
  {
   "cell_type": "code",
   "execution_count": null,
   "id": "3881bfb2",
   "metadata": {},
   "outputs": [],
   "source": []
  },
  {
   "cell_type": "code",
   "execution_count": 77,
   "id": "e12ce1ef",
   "metadata": {},
   "outputs": [
    {
     "data": {
      "text/plain": [
       "'11BBGN'"
      ]
     },
     "execution_count": 77,
     "metadata": {},
     "output_type": "execute_result"
    }
   ],
   "source": [
    "def transfer_ratio(a):\n",
    "    for l in \n",
    "    point_list=[10,8,6,4,2,1,0]\n",
    "    \n",
    "    \n"
   ]
  },
  {
   "cell_type": "code",
   "execution_count": 14,
   "id": "16a0fbf0",
   "metadata": {},
   "outputs": [
    {
     "name": "stdout",
     "output_type": "stream",
     "text": [
      "4\n",
      "5\n",
      "1\n",
      " \n",
      "6\n",
      "4\n",
      "5\n",
      "3\n",
      "4\n",
      " \n",
      " \n"
     ]
    }
   ],
   "source": [
    "for l in range(11):\n",
    "    c = C1_order[l]\n",
    "    "
   ]
  },
  {
   "cell_type": "code",
   "execution_count": 11,
   "id": "53c15827",
   "metadata": {},
   "outputs": [
    {
     "name": "stdout",
     "output_type": "stream",
     "text": [
      "11\n"
     ]
    }
   ],
   "source": [
    "print(len(C1_order))"
   ]
  },
  {
   "cell_type": "code",
   "execution_count": 10,
   "id": "da803513",
   "metadata": {},
   "outputs": [
    {
     "data": {
      "text/plain": [
       "'451 64534  '"
      ]
     },
     "execution_count": 10,
     "metadata": {},
     "output_type": "execute_result"
    }
   ],
   "source": [
    "C1_order"
   ]
  },
  {
   "cell_type": "code",
   "execution_count": 78,
   "id": "9e7176cb",
   "metadata": {},
   "outputs": [],
   "source": [
    "b = a[1390+1]"
   ]
  },
  {
   "cell_type": "code",
   "execution_count": null,
   "id": "6067b61a",
   "metadata": {},
   "outputs": [],
   "source": []
  },
  {
   "cell_type": "code",
   "execution_count": 80,
   "id": "0cf58c02",
   "metadata": {},
   "outputs": [],
   "source": [
    "b=b.replace('\\u3000','')"
   ]
  },
  {
   "cell_type": "code",
   "execution_count": 85,
   "id": "9aeca5a5",
   "metadata": {},
   "outputs": [
    {
     "data": {
      "text/plain": [
       "'第３日'"
      ]
     },
     "execution_count": 85,
     "metadata": {},
     "output_type": "execute_result"
    }
   ],
   "source": [
    "b[-3:]s"
   ]
  },
  {
   "cell_type": "code",
   "execution_count": null,
   "id": "f7c585a4",
   "metadata": {},
   "outputs": [],
   "source": []
  },
  {
   "cell_type": "code",
   "execution_count": null,
   "id": "2521208a",
   "metadata": {},
   "outputs": [],
   "source": []
  },
  {
   "cell_type": "code",
   "execution_count": null,
   "id": "91e3348f",
   "metadata": {},
   "outputs": [],
   "source": []
  },
  {
   "cell_type": "code",
   "execution_count": 17,
   "id": "977b0ec1",
   "metadata": {},
   "outputs": [],
   "source": [
    "text_data = '/Users/fujitashunsuke/python project/Boat_race/table/B'+str(year)+str(month)+str(date)+'.TXT'"
   ]
  },
  {
   "cell_type": "code",
   "execution_count": 18,
   "id": "58c1b5ad",
   "metadata": {},
   "outputs": [
    {
     "data": {
      "text/plain": [
       "'/Users/fujitashunsuke/python project/Boat_race/table/B211229.TXT'"
      ]
     },
     "execution_count": 18,
     "metadata": {},
     "output_type": "execute_result"
    }
   ],
   "source": [
    "text_data"
   ]
  },
  {
   "cell_type": "code",
   "execution_count": null,
   "id": "a30528cb",
   "metadata": {},
   "outputs": [],
   "source": [
    "text_data = '/Users/fujitashunsuke/python project/Boat_race/table/B211204.TXT'"
   ]
  }
 ],
 "metadata": {
  "kernelspec": {
   "display_name": "Python 3",
   "language": "python",
   "name": "python3"
  },
  "language_info": {
   "codemirror_mode": {
    "name": "ipython",
    "version": 3
   },
   "file_extension": ".py",
   "mimetype": "text/x-python",
   "name": "python",
   "nbconvert_exporter": "python",
   "pygments_lexer": "ipython3",
   "version": "3.8.8"
  }
 },
 "nbformat": 4,
 "nbformat_minor": 5
}
